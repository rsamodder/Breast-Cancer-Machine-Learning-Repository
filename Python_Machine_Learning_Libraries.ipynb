{
  "nbformat": 4,
  "nbformat_minor": 0,
  "metadata": {
    "colab": {
      "provenance": []
    },
    "kernelspec": {
      "name": "python3",
      "display_name": "Python 3"
    },
    "language_info": {
      "name": "python"
    }
  },
  "cells": [
    {
      "cell_type": "markdown",
      "source": [
        "> **Dataset:** Breast Cancer Dataset by UCI Machine Learning Repository (Asuncion and Newman, 2007)\n",
        "\\\n",
        "*The Class Samples are either Benign (value = 2) or Malignant (value = 4)*"
      ],
      "metadata": {
        "id": "dYmWdEr6CYkq"
      }
    },
    {
      "cell_type": "code",
      "source": [
        "# @title Import necessary libraries\n",
        "import numpy as np           # For numerical operations\n",
        "import pandas as pd          # For data manipulation and analysis\n",
        "import matplotlib.pyplot as plt  # For data visualization\n",
        "import seaborn as sns        # For enhanced data visualization\n",
        "from sklearn.model_selection import train_test_split  # For splitting the dataset\n",
        "from sklearn.preprocessing import StandardScaler  # For feature scaling\n",
        "from sklearn.metrics import accuracy_score, confusion_matrix, classification_report  # For model evaluation\n",
        "import tensorflow as tf      # For deep learning model creation\n",
        "from tensorflow import keras # For high-level API to build deep learning models\n",
        "import torch                 # For PyTorch operations\n",
        "\n",
        "# Load the dataset\n",
        "cell_df = pd.read_csv('/content/sample_data/cell_samples.csv')"
      ],
      "metadata": {
        "id": "3_R735kd0ivb"
      },
      "execution_count": null,
      "outputs": []
    },
    {
      "cell_type": "code",
      "source": [
        "# @title Data Preprocessing using Pandas and Numpy\n",
        "# Replace missing values and convert columns to appropriate data types\n",
        "cell_df.replace('?', np.nan, inplace=True)\n",
        "cell_df.dropna(inplace=True)\n",
        "cell_df['BareNuc'] = cell_df['BareNuc'].astype(int)\n",
        "\n",
        "# Separate features and target variable\n",
        "X = cell_df.drop(['ID', 'Class'], axis=1).values\n",
        "y = cell_df['Class'].values"
      ],
      "metadata": {
        "id": "VOXiACHK1c4v"
      },
      "execution_count": null,
      "outputs": []
    },
    {
      "cell_type": "code",
      "source": [
        "# @title Use Scikit-learn for data splitting\n",
        "X_train, X_test, y_train, y_test = train_test_split(X, y, test_size=0.2, random_state=42)\n",
        "\n",
        "# Feature scaling using Scikit-learn\n",
        "scaler = StandardScaler()\n",
        "X_train_scaled = scaler.fit_transform(X_train)\n",
        "X_test_scaled = scaler.transform(X_test)"
      ],
      "metadata": {
        "id": "OFNO0ITQ1p03"
      },
      "execution_count": null,
      "outputs": []
    },
    {
      "cell_type": "code",
      "source": [
        "# @title A simple neural network model using Keras with TensorFlow backend\n",
        "model = keras.Sequential([\n",
        "    keras.layers.Dense(16, activation='relu', input_shape=(X_train_scaled.shape[1],)),\n",
        "    keras.layers.Dense(8, activation='relu'),\n",
        "    keras.layers.Dense(1, activation='sigmoid')\n",
        "])\n",
        "\n",
        "# Compile the model\n",
        "model.compile(optimizer='adam', loss='binary_crossentropy', metrics=['accuracy'])\n",
        "\n",
        "# Train the model\n",
        "model.fit(X_train_scaled, y_train == 4, epochs=10, batch_size=32, validation_split=0.1)\n",
        "\n",
        "# Evaluate the model\n",
        "y_pred_keras = model.predict(X_test_scaled).round().astype(int).flatten()\n",
        "\n",
        "# Calculate evaluation metrics using Scikit-learn\n",
        "accuracy = accuracy_score(y_test == 4, y_pred_keras)\n",
        "conf_matrix = confusion_matrix(y_test == 4, y_pred_keras)\n",
        "report = classification_report(y_test == 4, y_pred_keras)\n",
        "\n",
        "# Display evaluation metrics\n",
        "print(\"Accuracy:\", accuracy)\n",
        "print(\"Confusion Matrix:\\n\", conf_matrix)\n",
        "print(\"Classification Report:\\n\", report)"
      ],
      "metadata": {
        "colab": {
          "base_uri": "https://localhost:8080/"
        },
        "id": "rOxw-1x718f6",
        "outputId": "64d5a893-4cd6-4ea3-b8ca-4ec2197cb147"
      },
      "execution_count": null,
      "outputs": [
        {
          "output_type": "stream",
          "name": "stdout",
          "text": [
            "Epoch 1/10\n",
            "16/16 [==============================] - 1s 16ms/step - loss: 0.6101 - accuracy: 0.7841 - val_loss: 0.5875 - val_accuracy: 0.7818\n",
            "Epoch 2/10\n",
            "16/16 [==============================] - 0s 5ms/step - loss: 0.5232 - accuracy: 0.8432 - val_loss: 0.5117 - val_accuracy: 0.7636\n",
            "Epoch 3/10\n",
            "16/16 [==============================] - 0s 4ms/step - loss: 0.4428 - accuracy: 0.8574 - val_loss: 0.4434 - val_accuracy: 0.8000\n",
            "Epoch 4/10\n",
            "16/16 [==============================] - 0s 4ms/step - loss: 0.3741 - accuracy: 0.8778 - val_loss: 0.3840 - val_accuracy: 0.8000\n",
            "Epoch 5/10\n",
            "16/16 [==============================] - 0s 5ms/step - loss: 0.3178 - accuracy: 0.9124 - val_loss: 0.3308 - val_accuracy: 0.8545\n",
            "Epoch 6/10\n",
            "16/16 [==============================] - 0s 5ms/step - loss: 0.2710 - accuracy: 0.9470 - val_loss: 0.2843 - val_accuracy: 0.9273\n",
            "Epoch 7/10\n",
            "16/16 [==============================] - 0s 7ms/step - loss: 0.2312 - accuracy: 0.9552 - val_loss: 0.2438 - val_accuracy: 0.9455\n",
            "Epoch 8/10\n",
            "16/16 [==============================] - 0s 7ms/step - loss: 0.1994 - accuracy: 0.9633 - val_loss: 0.2087 - val_accuracy: 0.9818\n",
            "Epoch 9/10\n",
            "16/16 [==============================] - 0s 7ms/step - loss: 0.1732 - accuracy: 0.9674 - val_loss: 0.1828 - val_accuracy: 0.9818\n",
            "Epoch 10/10\n",
            "16/16 [==============================] - 0s 6ms/step - loss: 0.1544 - accuracy: 0.9695 - val_loss: 0.1597 - val_accuracy: 0.9818\n",
            "5/5 [==============================] - 0s 3ms/step\n",
            "Accuracy: 0.9416058394160584\n",
            "Confusion Matrix:\n",
            " [[78  1]\n",
            " [ 7 51]]\n",
            "Classification Report:\n",
            "               precision    recall  f1-score   support\n",
            "\n",
            "       False       0.92      0.99      0.95        79\n",
            "        True       0.98      0.88      0.93        58\n",
            "\n",
            "    accuracy                           0.94       137\n",
            "   macro avg       0.95      0.93      0.94       137\n",
            "weighted avg       0.94      0.94      0.94       137\n",
            "\n"
          ]
        }
      ]
    },
    {
      "cell_type": "code",
      "source": [
        "# @title Plot the confusion matrix using Matplotlib and Seaborn\n",
        "plt.figure(figsize=(6, 4))\n",
        "sns.heatmap(conf_matrix, annot=True, fmt='d', cmap='YlGn', xticklabels=['Benign', 'Malignant'], yticklabels=['Benign', 'Malignant'])\n",
        "plt.xlabel('Predicted Labels')\n",
        "plt.ylabel('Actual Labels')\n",
        "plt.title('Confusion Matrix')\n",
        "plt.show()"
      ],
      "metadata": {
        "colab": {
          "base_uri": "https://localhost:8080/",
          "height": 410
        },
        "id": "b0o-9md_2cBX",
        "outputId": "fcb76e74-d108-4341-c3cd-47eeca57b477"
      },
      "execution_count": null,
      "outputs": [
        {
          "output_type": "display_data",
          "data": {
            "text/plain": [
              "<Figure size 600x400 with 2 Axes>"
            ],
            "image/png": "[encoded data removed]"
          },
          "metadata": {}
        }
      ]
    }
  ]
}