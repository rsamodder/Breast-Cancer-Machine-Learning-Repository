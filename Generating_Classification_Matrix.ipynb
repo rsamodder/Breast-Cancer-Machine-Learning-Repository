{
  "nbformat": 4,
  "nbformat_minor": 0,
  "metadata": {
    "colab": {
      "provenance": []
    },
    "kernelspec": {
      "name": "python3",
      "display_name": "Python 3"
    },
    "language_info": {
      "name": "python"
    }
  },
  "cells": [
    {
      "cell_type": "markdown",
      "source": [
        "> **Dataset:** Breast Cancer Dataset by UCI Machine Learning Repository (Asuncion and Newman, 2007)\n",
        "\\\n",
        "*The Class Samples are either Benign (value = 2) or Malignant (value = 4)*"
      ],
      "metadata": {
        "id": "dYmWdEr6CYkq"
      }
    },
    {
      "cell_type": "code",
      "source": [
        "import pandas as pd\n",
        "import numpy as np\n",
        "import seaborn as sns\n",
        "import matplotlib.pyplot as plt\n",
        "from sklearn.metrics import confusion_matrix\n",
        "\n",
        "# Load dataset\n",
        "cell_df = pd.read_csv('/cell_samples.csv')\n",
        "\n",
        "# Create a random array of 699 elements with values 2 and 4\n",
        "np.random.seed(42)  # for reproducibility\n",
        "y_pred = np.random.choice([2, 4], size=699)\n",
        "\n",
        "# Confusion matrix\n",
        "y_true = cell_df['Class']\n",
        "conf_matrix = confusion_matrix(y_true, y_pred)\n",
        "\n",
        "# Extract TP, TN, FP, FN from confusion matrix\n",
        "TP = conf_matrix[1, 1]  # True Positives\n",
        "TN = conf_matrix[0, 0]  # True Negatives\n",
        "FP = conf_matrix[0, 1]  # False Positives\n",
        "FN = conf_matrix[1, 0]  # False Negatives\n",
        "\n",
        "# Calculate evaluation metrics\n",
        "accuracy = (TP + TN) / (TP + TN + FP + FN)\n",
        "precision = TP / (TP + FP)\n",
        "recall = TP / (TP + FN)\n",
        "specificity = TN / (TN + FP)\n",
        "f1 = 2 * (precision * recall) / (precision + recall)\n",
        "\n",
        "# Calculate F-beta scores with beta=0.5\n",
        "beta_05 = 0.5\n",
        "fbeta_05 = (1 + beta_05**2) * (precision * recall) / (beta_05**2 * precision + recall)\n",
        "\n",
        "# Calculate all measures in percentages\n",
        "accuracy_percent = accuracy * 100\n",
        "precision_percent = precision * 100\n",
        "recall_percent = recall * 100\n",
        "specificity_percent = specificity * 100\n",
        "f1_percent = f1 * 100\n",
        "fbeta_05_percent = fbeta_05 * 100\n",
        "\n",
        "# Display evaluation metrics\n",
        "print(\"Evaluation Metrics:\")\n",
        "print(\"Accuracy:\", accuracy_percent, \"%\")\n",
        "print(\"Precision:\", precision_percent, \"%\")\n",
        "print(\"Recall (Sensitivity):\", recall_percent, \"%\")\n",
        "print(\"Specificity:\", specificity_percent, \"%\")\n",
        "print(\"F1 Score:\", f1_percent, \"%\")\n",
        "print(\"F-beta Score (beta=0.5):\", fbeta_05_percent, \"%\")\n",
        "\n",
        "# Plot the confusion matrix\n",
        "conf_df = pd.DataFrame(conf_matrix, columns=['Predicted Benign', 'Predicted Malignant'],\n",
        "                       index=['Actual Benign', 'Actual Malignant'])\n",
        "print(\"\\nConfusion Matrix:\")\n",
        "print(conf_df)\n",
        "\n",
        "# Plotting the confusion matrix\n",
        "plt.figure(figsize=(4, 2))\n",
        "sns.heatmap(conf_matrix, annot=True, fmt=\"d\", cmap=\"YlGn\")\n",
        "plt.xlabel('Predicted labels')\n",
        "plt.ylabel('Actual labels')\n",
        "plt.title('Confusion Matrix')\n",
        "plt.show()"
      ],
      "metadata": {
        "colab": {
          "base_uri": "https://localhost:8080/",
          "height": 471
        },
        "id": "qVBW6zahRDFn",
        "outputId": "92bf64b5-3dfa-411e-e7a2-f458521f79cd"
      },
      "execution_count": null,
      "outputs": [
        {
          "output_type": "stream",
          "name": "stdout",
          "text": [
            "Evaluation Metrics:\n",
            "Accuracy: 48.354792560801144 %\n",
            "Precision: 33.60655737704918 %\n",
            "Recall (Sensitivity): 51.037344398340245 %\n",
            "Specificity: 46.943231441048034 %\n",
            "F1 Score: 40.527182866556835 %\n",
            "F-beta Score (beta=0.5): 36.070381231671554 %\n",
            "\n",
            "Confusion Matrix:\n",
            "                  Predicted Benign  Predicted Malignant\n",
            "Actual Benign                  215                  243\n",
            "Actual Malignant               118                  123\n"
          ]
        },
        {
          "output_type": "display_data",
          "data": {
            "text/plain": [
              "<Figure size 400x200 with 2 Axes>"
            ],
            "image/png": "[encoded data removed]"
          },
          "metadata": {}
        }
      ]
    }
  ]
}